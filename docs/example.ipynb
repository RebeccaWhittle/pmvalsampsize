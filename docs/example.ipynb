{
 "cells": [
  {
   "cell_type": "markdown",
   "metadata": {},
   "source": [
    "# Example usage\n",
    "\n",
    "Examples based on those included in the papers referenced below by Riley et al. & Archer et al. published in Statistics in Medicine."
   ]
  },
  {
   "cell_type": "markdown",
   "metadata": {},
   "source": [
    "## Imports"
   ]
  },
  {
   "cell_type": "code",
   "execution_count": 2,
   "metadata": {},
   "outputs": [],
   "source": [
    "from pmvalsampsize.pmvalsampsize import *"
   ]
  },
  {
   "cell_type": "markdown",
   "metadata": {},
   "source": [
    "## Binary outcomes (logistic regression models)\n",
    "\n",
    "Use pmvalsampsize to calculate the minimum sample size required to externally validate an existing multivariable prediction model for a binary outcome (e.g. mechanical heart valve failure). Based on previous evidence, the outcome prevalence is anticipated to be 0.018 (1.8%) and the reported c-statistic was 0.8. The LP distribution was published and appeared normally distributed with mean (SD) of -5 (2.5). We target default CI widths for all but O/E CI width=1 (see Riley et al. for details). We can use the graph option to check the simulated distribution is appropriate."
   ]
  },
  {
   "cell_type": "code",
   "execution_count": 11,
   "metadata": {},
   "outputs": [
    {
     "name": "stdout",
     "output_type": "stream",
     "text": [
      "\n",
      " Normal LP distribution with parameters - mean = -5 , sd = 2.5 \n",
      "\n",
      "Criteria                    Sample size    Perf     SE    CI width\n",
      "------------------------  -------------  ------  -----  ----------\n",
      "Criteria 1 - O/E                    905       1  0.246           1\n",
      "Criteria 2 - C-slope               4544       1  0.051         0.2\n",
      "Criteria 3 - C statistic           4252     0.8  0.026         0.1\n",
      "------------------------  -------------  ------  -----  ----------\n",
      "Final SS                           4544       1  0.051         0.2\n",
      "\n",
      "Minimum sample size required for model validation based on user inputs = 4544,\n",
      "with 82 events (assuming an outcome prevalence = 0.018)\n",
      "\n",
      " Criteria 1 - precise estimation of O/E performance in the validation sample \n",
      " Criteria 2 - precise estimation of the calibration slope in the validation sample \n",
      " Criteria 3 - precise estimation of the C statistic in the validation sample \n",
      "\n"
     ]
    },
    {
     "data": {
      "image/png": "[encoded data removed]",
      "text/plain": [
       "<Figure size 640x480 with 1 Axes>"
      ]
     },
     "metadata": {},
     "output_type": "display_data"
    }
   ],
   "source": [
    "samplesize = pmvalsampsize(type = \"b\", prevalence = 0.018, cstatistic = 0.8, lpnormal = (-5,2.5), oeciwidth = 1, graph=True)\n",
    "plt.show()"
   ]
  },
  {
   "cell_type": "markdown",
   "metadata": {},
   "source": [
    "Alternatively, lets assume that the authors provided a distribution of predicted probabilities (e.g. as part of a calibration plot). We can use this to specify parameters for a beta distribution to simulate the LP distribution as below:"
   ]
  },
  {
   "cell_type": "code",
   "execution_count": 12,
   "metadata": {},
   "outputs": [
    {
     "name": "stdout",
     "output_type": "stream",
     "text": [
      "\n",
      " Beta P distribution with parameters - alpha = 0.5 , beta = 0.5 \n",
      "\n",
      "Criteria                    Sample size    Perf     SE    CI width\n",
      "------------------------  -------------  ------  -----  ----------\n",
      "Criteria 1 - O/E                    905       1  0.246           1\n",
      "Criteria 2 - C-slope               1644       1  0.051         0.2\n",
      "Criteria 3 - C statistic           4252     0.8  0.026         0.1\n",
      "------------------------  -------------  ------  -----  ----------\n",
      "Final SS                           4252     0.8  0.026         0.1\n",
      "\n",
      "Minimum sample size required for model validation based on user inputs = 4252,\n",
      "with 77 events (assuming an outcome prevalence = 0.018)\n",
      "\n",
      " Criteria 1 - precise estimation of O/E performance in the validation sample \n",
      " Criteria 2 - precise estimation of the calibration slope in the validation sample \n",
      " Criteria 3 - precise estimation of the C statistic in the validation sample \n",
      "\n"
     ]
    },
    {
     "data": {
      "image/png": "[encoded data removed]",
      "text/plain": [
       "<Figure size 640x480 with 1 Axes>"
      ]
     },
     "metadata": {},
     "output_type": "display_data"
    }
   ],
   "source": [
    "samplesize = pmvalsampsize(type = \"b\", prevalence = 0.018, cstatistic = 0.8, lpbeta = (0.5,0.5), oeciwidth = 1, graph = True)\n",
    "plt.show()"
   ]
  },
  {
   "cell_type": "markdown",
   "metadata": {},
   "source": [
    "Finally, we can use the anticipated c-statistic to simulate the event and non-event distributions assuming normality and common variances. We input a starting value for the mean of the non-events distribution as below:"
   ]
  },
  {
   "cell_type": "code",
   "execution_count": 15,
   "metadata": {},
   "outputs": [
    {
     "name": "stdout",
     "output_type": "stream",
     "text": [
      "\n",
      " Proportion of observed outcome events is within tolerance \n",
      " Proportion of outcome events under simulation = 0.01814 \n",
      " Target prevalence = 0.018 \n",
      " Mean in non-event group =  -4.7 \n",
      " \n",
      "\n",
      "Criteria                    Sample size    Perf     SE    CI width\n",
      "------------------------  -------------  ------  -----  ----------\n",
      "Criteria 1 - O/E                    905       1  0.246           1\n",
      "Criteria 2 - C-slope              17080       1  0.051         0.2\n",
      "Criteria 3 - C statistic           4252     0.8  0.026         0.1\n",
      "------------------------  -------------  ------  -----  ----------\n",
      "Final SS                          17080       1  0.051         0.2\n",
      "\n",
      "Minimum sample size required for model validation based on user inputs = 17080,\n",
      "with 308 events (assuming an outcome prevalence = 0.018)\n",
      "\n",
      " Criteria 1 - precise estimation of O/E performance in the validation sample \n",
      " Criteria 2 - precise estimation of the calibration slope in the validation sample \n",
      " Criteria 3 - precise estimation of the C statistic in the validation sample \n",
      "\n"
     ]
    }
   ],
   "source": [
    "samplesize = pmvalsampsize(type = \"b\", prevalence = 0.018, cstatistic = 0.8, lpcstat =-4.7, oeciwidth = 1)"
   ]
  },
  {
   "cell_type": "markdown",
   "metadata": {},
   "source": [
    "## References\n",
    "\n",
    "Archer L, Snell K, Ensor J, Hudda MT, Collins GS, Riley RD. Minimum sample size for external validation of a clinical prediction model with a continuous outcome. Statistics in Medicine. 2020. \n",
    "\n",
    "Riley RD, Debray TPA, Collins G, Archer L, Ensor J, van Smeden M, Snell KIE. Minimum sample size for external validation of a clinical prediction model with a binary outcome. Statistics in Medicine. 2021."
   ]
  },
  {
   "cell_type": "code",
   "execution_count": null,
   "metadata": {},
   "outputs": [],
   "source": []
  }
 ],
 "metadata": {
  "kernelspec": {
   "display_name": "Python 3 (ipykernel)",
   "language": "python",
   "name": "python3"
  },
  "language_info": {
   "codemirror_mode": {
    "name": "ipython",
    "version": 3
   },
   "file_extension": ".py",
   "mimetype": "text/x-python",
   "name": "python",
   "nbconvert_exporter": "python",
   "pygments_lexer": "ipython3",
   "version": "3.12.3"
  }
 },
 "nbformat": 4,
 "nbformat_minor": 4
}
